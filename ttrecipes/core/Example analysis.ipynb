{
 "cells": [
  {
   "cell_type": "code",
   "execution_count": 3,
   "id": "fd666e90",
   "metadata": {},
   "outputs": [],
   "source": [
    "# -----------------------------------------------------------------------------\n",
    "# Authors:      Rafael Ballester-Ripoll <rballester@ifi.uzh.ch>\n",
    "#\n",
    "# Copyright:    ttrecipes project (c) 2017-2018\n",
    "#               VMMLab - University of Zurich\n",
    "#\n",
    "# ttrecipes is free software: you can redistribute it and/or modify\n",
    "# it under the terms of the GNU Lesser General Public License as published\n",
    "# by the Free Software Foundation, either version 3 of the License, or\n",
    "# (at your option) any later version.\n",
    "#\n",
    "# ttrecipes is distributed in the hope that it will be useful,\n",
    "# but WITHOUT ANY WARRANTY; without even the implied warranty of\n",
    "# MERCHANTABILITY or FITNESS FOR A PARTICULAR PURPOSE.  See the\n",
    "# GNU Lesser General Public License for more details.\n",
    "#\n",
    "# You should have received a copy of the GNU Lesser General Public License\n",
    "# along with ttrecipes.  If not, see <http://www.gnu.org/licenses/>.\n",
    "# -----------------------------------------------------------------------------\n",
    "\n",
    "from __future__ import (absolute_import, division,\n",
    "                        print_function, unicode_literals)\n",
    "\n",
    "from unittest import TestCase\n",
    "import numpy as np\n",
    "import sys\n",
    "sys.path.append('../../')\n",
    "from ttrecipes.core.analysis import best_subspace\n",
    "from ttrecipes.core.cross import cross\n",
    "import teneva\n",
    "from ttrecipes.core.multifuncrs2 import nr\n",
    "from ttrecipes.core.util import getitem\n",
    "\n",
    "\n",
    "class TestAnalysis(TestCase):\n",
    "\n",
    "    def test_best_subspace(self):\n",
    "\n",
    "        N = 5\n",
    "        ntries = 100\n",
    "\n",
    "        def fun(Xs):\n",
    "            return np.sum(np.sin(Xs*2)*np.array([[-2, 2, 1, 4, -2]]), axis=1)**2\n",
    "\n",
    "        t = cross(ticks_list=[(np.linspace(0, 1, 64)) for i in range(N)], fun=fun, mode='array')\n",
    "        best_subspace_ = best_subspace(t, ndim=2)[0]\n",
    "#         best_var = np.var(t[best_subspace_].full())\n",
    "        best_var = np.var(teneva.full(getitem(t, best_subspace_)))\n",
    "\n",
    "        # Try several random_sampling slices and verify that their variance is never larger\n",
    "        for i in range(ntries):\n",
    "            ind = list(np.random.randint(0, 64, len(t)))\n",
    "            for where in np.random.choice(N, 2):\n",
    "                ind[where] = slice(None)\n",
    "            self.assertLessEqual(np.var(teneva.full(getitem(t,ind))), best_var)\n"
   ]
  },
  {
   "cell_type": "code",
   "execution_count": 4,
   "id": "3f3f90fb",
   "metadata": {},
   "outputs": [],
   "source": [
    "TestAnalysis().test_best_subspace()"
   ]
  },
  {
   "cell_type": "code",
   "execution_count": null,
   "id": "bc9ba3fb",
   "metadata": {},
   "outputs": [],
   "source": []
  }
 ],
 "metadata": {
  "kernelspec": {
   "display_name": "Python 3 (ipykernel)",
   "language": "python",
   "name": "python3"
  },
  "language_info": {
   "codemirror_mode": {
    "name": "ipython",
    "version": 3
   },
   "file_extension": ".py",
   "mimetype": "text/x-python",
   "name": "python",
   "nbconvert_exporter": "python",
   "pygments_lexer": "ipython3",
   "version": "3.9.7"
  }
 },
 "nbformat": 4,
 "nbformat_minor": 5
}
