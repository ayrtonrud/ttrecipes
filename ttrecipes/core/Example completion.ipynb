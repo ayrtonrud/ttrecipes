{
 "cells": [
  {
   "cell_type": "code",
   "execution_count": 1,
   "id": "a45e8c1f",
   "metadata": {},
   "outputs": [],
   "source": [
    "# -----------------------------------------------------------------------------\n",
    "# Authors:      Rafael Ballester-Ripoll <rballester@ifi.uzh.ch>\n",
    "#\n",
    "# Copyright:    ttrecipes project (c) 2017-2018\n",
    "#               VMMLab - University of Zurich\n",
    "#\n",
    "# ttrecipes is free software: you can redistribute it and/or modify\n",
    "# it under the terms of the GNU Lesser General Public License as published\n",
    "# by the Free Software Foundation, either version 3 of the License, or\n",
    "# (at your option) any later version.\n",
    "#\n",
    "# ttrecipes is distributed in the hope that it will be useful,\n",
    "# but WITHOUT ANY WARRANTY; without even the implied warranty of\n",
    "# MERCHANTABILITY or FITNESS FOR A PARTICULAR PURPOSE.  See the\n",
    "# GNU Lesser General Public License for more details.\n",
    "#\n",
    "# You should have received a copy of the GNU Lesser General Public License\n",
    "# along with ttrecipes.  If not, see <http://www.gnu.org/licenses/>.\n",
    "# -----------------------------------------------------------------------------\n",
    "\n",
    "from __future__ import (absolute_import, division,\n",
    "                        print_function, unicode_literals)\n",
    "from unittest import TestCase\n",
    "import numpy as np\n",
    "# import tt\n",
    "import teneva\n",
    "import sampling\n",
    "import completion\n",
    "import util\n",
    "import sparse\n",
    "from util import nr\n",
    "\n",
    "# import ttrecipes as tr\n",
    "\n",
    "\n",
    "class TestCompletion(TestCase):\n",
    "\n",
    "    def test_categorical(self):\n",
    "        N = 4\n",
    "        Is = [5, ]*N\n",
    "        ranks = 3\n",
    "        gt = teneva.rand(Is, ranks)\n",
    "        P = int(np.prod(nr(gt)[0])/10)\n",
    "#         Xs = tr.core.LHS(Is, P)\n",
    "        Xs = sampling.LHS(Is, P)\n",
    "#         ys = np.array([gt[x] for x in Xs])\n",
    "        ys = np.array([util.getitem(gt, x) for x in Xs])\n",
    "#         completed = tr.core.categorical_ALS(Xs, ys, shape=Is, ranks=ranks, verbose=False)\n",
    "        completed = completion.categorical_ALS(Xs, ys, shape=Is, ranks=ranks, verbose=False)\n",
    "#         reco = np.array([completed[x] for x in Xs])\n",
    "        reco = np.array([util.getitem(completed, x) for x in Xs])\n",
    "        self.assertLessEqual(np.linalg.norm(reco - ys)/np.linalg.norm(ys), 0.25)\n",
    "\n",
    "    def test_continuous(self):\n",
    "        N = 4\n",
    "        Is = [15, ]*N\n",
    "        Rs = [1] + [4, ]*(N-1) + [1]\n",
    "        Ss = [3, ]*N\n",
    "#         cores = tt.vector.to_list(tr.core.random_tt(Ss, Rs))\n",
    "        cores = (teneva.rand(Ss, Rs))\n",
    "#         Us = tr.core.generate_bases(\"legendre\", Is, Ss)\n",
    "        Us = util.generate_bases(\"legendre\", Is, Ss)\n",
    "        cores = [np.einsum('ijk,lj->ilk', c, U) for c, U in zip(cores, Us)]\n",
    "#         gt = tt.vector.from_list(cores)\n",
    "        gt = cores\n",
    "        n, r = nr(gt)\n",
    "        P = int(np.prod(Is) / 10)\n",
    "#         Xs = tr.core.LHS(gt.n, P)\n",
    "        Xs = sampling.LHS(n, P)\n",
    "#         ys = tr.core.sparse_reco(gt, Xs)\n",
    "        ys = sparse.sparse_reco(gt, Xs)\n",
    "        completed = completion.pce_interpolation(Xs, ys, shape=Is, ranks=Rs, ranks2=Ss, maxswp=10, verbose=True)\n",
    "#         reco = tr.core.sparse_reco(completed, Xs)\n",
    "        reco = sparse.sparse_reco(completed, Xs)\n",
    "        self.assertLessEqual(np.linalg.norm(reco - ys) / np.linalg.norm(ys), 1e-5)\n"
   ]
  },
  {
   "cell_type": "code",
   "execution_count": 2,
   "id": "28f9f389",
   "metadata": {},
   "outputs": [],
   "source": [
    "TestCompletion().test_categorical()"
   ]
  },
  {
   "cell_type": "code",
   "execution_count": 3,
   "id": "f4e74802",
   "metadata": {},
   "outputs": [
    {
     "name": "stdout",
     "output_type": "stream",
     "text": [
      "Interpolating a 4D tensor of size [15, 15, 15, 15] using 5062 samples and ranks [1, 4, 4, 4, 1]...\n",
      "Sweep:   0 | eps: 0.0230269253200630 | time: 0.1350\n",
      "Sweep:   1 | eps: 0.0006300873187343 | time: 0.1450\n",
      "Sweep:   2 | eps: 0.0000223140308900 | time: 0.1700\n",
      "Sweep:   3 | eps: 0.0000049662602034 | time: 0.1555\n",
      "Sweep:   4 | eps: 0.0000036863401719 | time: 0.1200\n",
      "Sweep:   5 | eps: 0.0000031185526316 | time: 0.1140\n",
      "Sweep:   6 | eps: 0.0000043258882567 | time: 0.1190\n",
      "Sweep:   7 | eps: 0.0000037082949237 | time: 0.1240\n",
      "Sweep:   8 | eps: 0.0000022414979664 | time: 0.1170\n",
      "Sweep:   9 | eps: 0.0000028162301589 | time: 0.1240\n"
     ]
    }
   ],
   "source": [
    "TestCompletion().test_continuous()"
   ]
  },
  {
   "cell_type": "code",
   "execution_count": null,
   "id": "a4ed8c08",
   "metadata": {},
   "outputs": [],
   "source": []
  }
 ],
 "metadata": {
  "kernelspec": {
   "display_name": "Python 3 (ipykernel)",
   "language": "python",
   "name": "python3"
  },
  "language_info": {
   "codemirror_mode": {
    "name": "ipython",
    "version": 3
   },
   "file_extension": ".py",
   "mimetype": "text/x-python",
   "name": "python",
   "nbconvert_exporter": "python",
   "pygments_lexer": "ipython3",
   "version": "3.9.7"
  }
 },
 "nbformat": 4,
 "nbformat_minor": 5
}
