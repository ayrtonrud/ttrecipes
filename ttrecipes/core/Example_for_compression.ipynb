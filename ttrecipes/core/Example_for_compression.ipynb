{
 "cells": [
  {
   "cell_type": "code",
   "execution_count": 1,
   "id": "56663d9d",
   "metadata": {},
   "outputs": [],
   "source": [
    "# -----------------------------------------------------------------------------\n",
    "# Authors:      Rafael Ballester-Ripoll <rballester@ifi.uzh.ch>\n",
    "#\n",
    "# Copyright:    ttrecipes project (c) 2017-2018\n",
    "#               VMMLab - University of Zurich\n",
    "#\n",
    "# ttrecipes is free software: you can redistribute it and/or modify\n",
    "# it under the terms of the GNU Lesser General Public License as published\n",
    "# by the Free Software Foundation, either version 3 of the License, or\n",
    "# (at your option) any later version.\n",
    "#\n",
    "# ttrecipes is distributed in the hope that it will be useful,\n",
    "# but WITHOUT ANY WARRANTY; without even the implied warranty of\n",
    "# MERCHANTABILITY or FITNESS FOR A PARTICULAR PURPOSE.  See the\n",
    "# GNU Lesser General Public License for more details.\n",
    "#\n",
    "# You should have received a copy of the GNU Lesser General Public License\n",
    "# along with ttrecipes.  If not, see <http://www.gnu.org/licenses/>.\n",
    "# -----------------------------------------------------------------------------\n",
    "\n",
    "from __future__ import (absolute_import, division,\n",
    "                        print_function, unicode_literals)\n",
    "from future.builtins import range\n",
    "\n",
    "from unittest import TestCase\n",
    "import numpy as np\n",
    "\n",
    "import teneva\n",
    "import util\n",
    "import compression\n",
    "\n",
    "\n",
    "class TestCompression(TestCase):\n",
    "\n",
    "    def test_tt_svd(self):\n",
    "        ntries = 1000\n",
    "        for i in range(ntries):\n",
    "            N = np.random.randint(2, 5)\n",
    "            Is = np.random.randint(2, 8, N)\n",
    "            X = np.random.rand(*list(Is))\n",
    "            eps = np.random.rand()*0.1\n",
    "            X_t = compression.tt_svd(X, eps)\n",
    "#             reco = X_t.full()\n",
    "            reco = teneva.full(X_t)\n",
    "            rel = np.linalg.norm(reco - X) / np.linalg.norm(X)\n",
    "            self.assertLessEqual(rel, eps)\n",
    "\n",
    "#     def test_round(self):\n",
    "#         ntries = 100\n",
    "#         for i in range(ntries):\n",
    "#             N = np.random.randint(3, 5)\n",
    "#             shape = [np.random.randint(1, 15) for n in range(N)]\n",
    "#             ranks = [1] + [np.random.randint(1, 10) for n in range(N-1)] + [1]\n",
    "#             t = tr.core.random_tt(shape, ranks)\n",
    "#             eps = np.random.rand()\n",
    "#             t2 = tr.core.round(t, eps=eps, verbose=False)\n",
    "#             gt = t.full()\n",
    "#             reco = t2.full()\n",
    "#             reps = np.linalg.norm(reco - gt) / np.linalg.norm(gt)\n",
    "#             self.assertLessEqual(reps, eps)\n"
   ]
  },
  {
   "cell_type": "code",
   "execution_count": 2,
   "id": "dbd63764",
   "metadata": {},
   "outputs": [],
   "source": [
    "TestCompression().test_tt_svd()"
   ]
  },
  {
   "cell_type": "code",
   "execution_count": null,
   "id": "6a823c19",
   "metadata": {},
   "outputs": [],
   "source": []
  }
 ],
 "metadata": {
  "kernelspec": {
   "display_name": "Python 3 (ipykernel)",
   "language": "python",
   "name": "python3"
  },
  "language_info": {
   "codemirror_mode": {
    "name": "ipython",
    "version": 3
   },
   "file_extension": ".py",
   "mimetype": "text/x-python",
   "name": "python",
   "nbconvert_exporter": "python",
   "pygments_lexer": "ipython3",
   "version": "3.9.7"
  }
 },
 "nbformat": 4,
 "nbformat_minor": 5
}
