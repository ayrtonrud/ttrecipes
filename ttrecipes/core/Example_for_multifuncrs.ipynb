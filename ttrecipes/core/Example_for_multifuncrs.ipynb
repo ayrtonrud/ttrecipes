{
 "cells": [
  {
   "cell_type": "code",
   "execution_count": 1,
   "id": "9f1df4bb",
   "metadata": {},
   "outputs": [],
   "source": [
    "from teneva import rand\n",
    "import teneva\n",
    "import numpy as np"
   ]
  },
  {
   "cell_type": "code",
   "execution_count": 2,
   "id": "ecf371f9",
   "metadata": {},
   "outputs": [],
   "source": [
    "from multifuncrs2 import multifuncrs2"
   ]
  },
  {
   "cell_type": "code",
   "execution_count": 3,
   "id": "5d621924",
   "metadata": {},
   "outputs": [
    {
     "name": "stdout",
     "output_type": "stream",
     "text": [
      "=multifuncrs= sweep 1{2}, max_dy: 2.332e+00, erank: 4.16025\n",
      "=multifuncrs= sweep 2{1}, max_dy: 3.588e-01, erank: 6.62745\n",
      "=multifuncrs= sweep 2{2}, max_dy: 3.588e-01, erank: 8.19005\n",
      "=multifuncrs= sweep 3{1}, max_dy: 1.325e-15, erank: 8.18535\n",
      "Relative error norm: 5.695231777004274e-16\n"
     ]
    }
   ],
   "source": [
    "a = teneva.rand([3, 5, 7, 11], [1, 4, 6, 5, 1])\n",
    "b = teneva.rand([3, 5, 7, 11], [1, 2, 4, 3, 1])\n",
    "c = multifuncrs2([a, b], lambda x: np.sum(x, axis=1), eps=1e-6)\n",
    "a = teneva.full(a)\n",
    "b = teneva.full(b)\n",
    "c = teneva.full(c)\n",
    "print(\"Relative error norm:\", np.linalg.norm(c - (a + b)) / np.linalg.norm(a + b))"
   ]
  },
  {
   "cell_type": "code",
   "execution_count": null,
   "id": "3d7baaf0",
   "metadata": {},
   "outputs": [],
   "source": []
  }
 ],
 "metadata": {
  "kernelspec": {
   "display_name": "Python 3 (ipykernel)",
   "language": "python",
   "name": "python3"
  },
  "language_info": {
   "codemirror_mode": {
    "name": "ipython",
    "version": 3
   },
   "file_extension": ".py",
   "mimetype": "text/x-python",
   "name": "python",
   "nbconvert_exporter": "python",
   "pygments_lexer": "ipython3",
   "version": "3.9.7"
  }
 },
 "nbformat": 4,
 "nbformat_minor": 5
}
