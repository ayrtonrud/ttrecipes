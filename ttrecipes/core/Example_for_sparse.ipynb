{
 "cells": [
  {
   "cell_type": "code",
   "execution_count": 1,
   "id": "42a85ca4",
   "metadata": {},
   "outputs": [
    {
     "ename": "ModuleNotFoundError",
     "evalue": "No module named 'tt'",
     "output_type": "error",
     "traceback": [
      "\u001b[1;31m---------------------------------------------------------------------------\u001b[0m",
      "\u001b[1;31mModuleNotFoundError\u001b[0m                       Traceback (most recent call last)",
      "\u001b[1;32mC:\\Users\\ALEXAN~1\\AppData\\Local\\Temp/ipykernel_7540/81203891.py\u001b[0m in \u001b[0;36m<module>\u001b[1;34m\u001b[0m\n\u001b[0;32m     28\u001b[0m \u001b[1;32mimport\u001b[0m \u001b[0mutil\u001b[0m\u001b[1;33m\u001b[0m\u001b[1;33m\u001b[0m\u001b[0m\n\u001b[0;32m     29\u001b[0m \u001b[1;32mimport\u001b[0m \u001b[0msparse\u001b[0m\u001b[1;33m\u001b[0m\u001b[1;33m\u001b[0m\u001b[0m\n\u001b[1;32m---> 30\u001b[1;33m \u001b[1;32mimport\u001b[0m \u001b[0mstats\u001b[0m\u001b[1;33m\u001b[0m\u001b[1;33m\u001b[0m\u001b[0m\n\u001b[0m\u001b[0;32m     31\u001b[0m \u001b[1;33m\u001b[0m\u001b[0m\n\u001b[0;32m     32\u001b[0m \u001b[1;31m# import ttrecipes as tr\u001b[0m\u001b[1;33m\u001b[0m\u001b[1;33m\u001b[0m\u001b[0m\n",
      "\u001b[1;32m~\\Documents\\Python Scripts\\ttrecipes\\ttrecipes\\core\\stats.py\u001b[0m in \u001b[0;36m<module>\u001b[1;34m\u001b[0m\n\u001b[0;32m     28\u001b[0m \u001b[1;33m\u001b[0m\u001b[0m\n\u001b[0;32m     29\u001b[0m \u001b[1;32mimport\u001b[0m \u001b[0mnumpy\u001b[0m \u001b[1;32mas\u001b[0m \u001b[0mnp\u001b[0m\u001b[1;33m\u001b[0m\u001b[1;33m\u001b[0m\u001b[0m\n\u001b[1;32m---> 30\u001b[1;33m \u001b[1;32mimport\u001b[0m \u001b[0mtt\u001b[0m\u001b[1;33m\u001b[0m\u001b[1;33m\u001b[0m\u001b[0m\n\u001b[0m\u001b[0;32m     31\u001b[0m \u001b[1;32mimport\u001b[0m \u001b[0mscipy\u001b[0m\u001b[1;33m\u001b[0m\u001b[1;33m\u001b[0m\u001b[0m\n\u001b[0;32m     32\u001b[0m \u001b[1;33m\u001b[0m\u001b[0m\n",
      "\u001b[1;31mModuleNotFoundError\u001b[0m: No module named 'tt'"
     ]
    }
   ],
   "source": [
    "# -----------------------------------------------------------------------------\n",
    "# Authors:      Rafael Ballester-Ripoll <rballester@ifi.uzh.ch>\n",
    "#\n",
    "# Copyright:    ttrecipes project (c) 2017-2018\n",
    "#               VMMLab - University of Zurich\n",
    "#\n",
    "# ttrecipes is free software: you can redistribute it and/or modify\n",
    "# it under the terms of the GNU Lesser General Public License as published\n",
    "# by the Free Software Foundation, either version 3 of the License, or\n",
    "# (at your option) any later version.\n",
    "#\n",
    "# ttrecipes is distributed in the hope that it will be useful,\n",
    "# but WITHOUT ANY WARRANTY; without even the implied warranty of\n",
    "# MERCHANTABILITY or FITNESS FOR A PARTICULAR PURPOSE.  See the\n",
    "# GNU Lesser General Public License for more details.\n",
    "#\n",
    "# You should have received a copy of the GNU Lesser General Public License\n",
    "# along with ttrecipes.  If not, see <http://www.gnu.org/licenses/>.\n",
    "# -----------------------------------------------------------------------------\n",
    "\n",
    "from __future__ import (absolute_import, division,\n",
    "                        print_function, unicode_literals)\n",
    "from future.builtins import range\n",
    "\n",
    "from unittest import TestCase\n",
    "import numpy as np\n",
    "import teneva\n",
    "import util\n",
    "import sparse\n",
    "import stats\n",
    "\n",
    "# import ttrecipes as tr\n",
    "\n",
    "\n",
    "class TestSparse(TestCase):\n",
    "\n",
    "    def test_auxiliary(self):\n",
    "\n",
    "        for i in range(10):\n",
    "\n",
    "            P = 100\n",
    "            N = np.random.randint(1, 5)\n",
    "            Is = np.random.randint(1, 3, N)\n",
    "            Xs = [np.random.randint(0, I, P) for I in Is]\n",
    "            Xs = np.array(Xs).T\n",
    "            ys = np.random.rand(P)\n",
    "            Xs, ys = util.sum_repeated(Xs, ys)\n",
    "\n",
    "            # sparse_covariance()\n",
    "            D = np.zeros(Is)\n",
    "            D[list(Xs.T)] = ys\n",
    "            D = np.reshape(D, [D.shape[0], -1])\n",
    "            gt = D.dot(D.T)\n",
    "            reco = sparse.sparse_covariance(Xs, ys, nrows=Is[0])\n",
    "            self.assertAlmostEqual(np.linalg.norm(gt - reco) / np.linalg.norm(gt), 0)\n",
    "\n",
    "            # full_times_sparse()\n",
    "            F = np.random.rand(Is[0], Is[0])\n",
    "            D = np.zeros(Is)\n",
    "            D[list(Xs.T)] = ys\n",
    "            D = np.reshape(D, [Is[0], -1])\n",
    "            gt = F.dot(D)\n",
    "            gt = np.reshape(gt, Is)\n",
    "            Xs, ys = sparse.full_times_sparse(F, Xs, ys)\n",
    "            reco = np.zeros(Is)\n",
    "            reco[list(Xs.T)] = ys\n",
    "            self.assertAlmostEqual(np.linalg.norm(gt - reco) / np.linalg.norm(gt), 0)\n",
    "\n",
    "    def test_sparse(self):\n",
    "\n",
    "        N = 16\n",
    "        P = 2**N\n",
    "        Xs = np.array(np.unravel_index(np.arange(P), [2, ] * N)).T\n",
    "        ys = 1. / (np.sum(Xs, axis=1) + 1)  # Hilbert tensor\n",
    "\n",
    "        for i in range(1, 5):\n",
    "\n",
    "            eps = 10**(-i)\n",
    "            t = sparse.sparse_tt_svd(Xs, ys, shape=[2, ] * N, rmax=5, verbose=False, eps=eps)\n",
    "#             reco = t.full()\n",
    "            reco = teneva.full(t)\n",
    "            gt = np.zeros([2, ] * N)\n",
    "            gt[list(Xs.T)] = ys\n",
    "            error = np.linalg.norm(reco - gt) / np.linalg.norm(gt)\n",
    "            self.assertLessEqual(error, eps)\n",
    "\n",
    "#             t = tt.vector(gt, eps=eps)\n",
    "            t = teneva.svd(gt, e=eps)\n",
    "#             reco = t.full()\n",
    "            reco = teneva.full(t)\n",
    "            error_tt = np.linalg.norm(reco - gt) / np.linalg.norm(gt)\n",
    "            print(error_tt, error)\n",
    "            self.assertLessEqual((error - error_tt) / error_tt, 1.5)"
   ]
  },
  {
   "cell_type": "code",
   "execution_count": null,
   "id": "43033688",
   "metadata": {},
   "outputs": [],
   "source": [
    "TestSparse().test_auxiliary()"
   ]
  },
  {
   "cell_type": "code",
   "execution_count": null,
   "id": "8ec5de14",
   "metadata": {},
   "outputs": [],
   "source": [
    "TestSparse().test_sparse()"
   ]
  },
  {
   "cell_type": "code",
   "execution_count": null,
   "id": "37d1dd49",
   "metadata": {},
   "outputs": [],
   "source": []
  }
 ],
 "metadata": {
  "kernelspec": {
   "display_name": "Python 3 (ipykernel)",
   "language": "python",
   "name": "python3"
  },
  "language_info": {
   "codemirror_mode": {
    "name": "ipython",
    "version": 3
   },
   "file_extension": ".py",
   "mimetype": "text/x-python",
   "name": "python",
   "nbconvert_exporter": "python",
   "pygments_lexer": "ipython3",
   "version": "3.9.7"
  }
 },
 "nbformat": 4,
 "nbformat_minor": 5
}
