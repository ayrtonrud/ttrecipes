{
 "cells": [
  {
   "cell_type": "code",
   "execution_count": 1,
   "id": "4c3a5ad2",
   "metadata": {},
   "outputs": [],
   "source": [
    "import teneva\n",
    "import numpy as np\n",
    "from scipy.optimize import rosen\n",
    "from teneva import rand"
   ]
  },
  {
   "cell_type": "code",
   "execution_count": 2,
   "id": "6441cd85",
   "metadata": {},
   "outputs": [],
   "source": [
    "import tt_min"
   ]
  },
  {
   "cell_type": "code",
   "execution_count": 3,
   "id": "504839c5",
   "metadata": {},
   "outputs": [
    {
     "name": "stdout",
     "output_type": "stream",
     "text": [
      "Minimize 4-d Rosenbrock function on a 4-dimensional grid (512 points along each dimension). The global minimum is 0 in the (1, 1, 1, 1) point.\n",
      "New record: 80.86814693037455 Point: [0.80234834 0.16046967 0.77886497 0.60665362] fevals: 5120\n",
      "New record: 25.051901947934812 Point: [0.80234834 0.16046967 0.03522505 0.01174168] fevals: 61440\n",
      "New record: 1.829070702483314 Point: [0.80234834 0.59882583 0.31702544 0.01174168] fevals: 112640\n",
      "New record: 0.05812861033533131 Point: [1.01369863 1.02935421 1.037182   1.06849315] fevals: 117760\n",
      "New record: 0.014977417068138887 Point: [1.01369863 1.02152642 1.037182   1.06849315] fevals: 174080\n",
      "New record: 0.009749318445244837 Point: [1.01369863 1.02152642 1.037182   1.07632094] fevals: 236032\n",
      "New record: 0.00972853344688063 Point: [1.00587084 1.01369863 1.02935421 1.06849315] fevals: 1806336\n",
      "New record: 0.0018863855125395585 Point: [1.00587084 1.01369863 1.02935421 1.06066536] fevals: 1862656\n",
      "Minimize random 5-dimensional TT tensor with ranks equal to 3. The minimal element is -24.503359\n",
      "New record: -23.238314741840014 Point: [2 2 0 1 2] elements seen: 30\n",
      "New record: -24.46534980589544 Point: [2 2 0 3 2] elements seen: 150\n",
      "New record: -24.503358673300692 Point: [0 0 0 0 0] elements seen: 650\n",
      "New record: -24.503358673300692 Point: [0 0 0 0 0] elements seen: 770\n"
     ]
    }
   ],
   "source": [
    "def my_rosen(x):\n",
    "    return rosen(x.T)\n",
    "\n",
    "print(\"Minimize 4-d Rosenbrock function on a 4-dimensional grid (512 points \" +\n",
    "      \"along each dimension). The global minimum is 0 in the (1, 1, 1, 1) point.\")\n",
    "val, x_full = tt_min.min_func(my_rosen, -2, 2, d=4, n0=512, rmax=10, nswp=30)\n",
    "\n",
    "tens = teneva.rand([3, 4, 5, 4, 3], 3)\n",
    "min_element = min(teneva.full(tens).flatten())\n",
    "print(\"Minimize random 5-dimensional TT tensor with ranks equal to 3. \" +\n",
    "      \"The minimal element is %f\" % min_element)\n",
    "val, point = tt_min.min_tens(tens, rmax=10, nswp=30)"
   ]
  },
  {
   "cell_type": "code",
   "execution_count": null,
   "id": "63c153ba",
   "metadata": {},
   "outputs": [],
   "source": []
  }
 ],
 "metadata": {
  "kernelspec": {
   "display_name": "Python 3 (ipykernel)",
   "language": "python",
   "name": "python3"
  },
  "language_info": {
   "codemirror_mode": {
    "name": "ipython",
    "version": 3
   },
   "file_extension": ".py",
   "mimetype": "text/x-python",
   "name": "python",
   "nbconvert_exporter": "python",
   "pygments_lexer": "ipython3",
   "version": "3.9.7"
  }
 },
 "nbformat": 4,
 "nbformat_minor": 5
}
